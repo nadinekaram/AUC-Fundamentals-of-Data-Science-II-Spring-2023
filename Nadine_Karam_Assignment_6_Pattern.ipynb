{
  "cells": [
    {
      "cell_type": "markdown",
      "metadata": {
        "id": "view-in-github",
        "colab_type": "text"
      },
      "source": [
        "<a href=\"https://colab.research.google.com/github/nadinekaram/AUC-Fundamentals-of-Data-Science-II-Spring-2023/blob/main/Nadine_Karam_Assignment_6_Pattern.ipynb\" target=\"_parent\"><img src=\"https://colab.research.google.com/assets/colab-badge.svg\" alt=\"Open In Colab\"/></a>"
      ]
    },
    {
      "cell_type": "code",
      "execution_count": 1,
      "metadata": {
        "colab": {
          "base_uri": "https://localhost:8080/"
        },
        "id": "Cam7N39xxY6_",
        "outputId": "0d677724-5ce9-4bf4-e5d7-73ec623168e4"
      },
      "outputs": [
        {
          "output_type": "stream",
          "name": "stdout",
          "text": [
            "xoxoxo\n",
            "oxoxo\n",
            "xoxo\n",
            "oxo\n",
            "xo\n",
            "o\n"
          ]
        }
      ],
      "source": [
        "pattern=\"xoxoxo\"\n",
        "for i in range(6):\n",
        "  print(pattern[i:])"
      ]
    },
    {
      "cell_type": "code",
      "execution_count": null,
      "metadata": {
        "id": "-e4d8XmXyVuF"
      },
      "outputs": [],
      "source": []
    }
  ],
  "metadata": {
    "colab": {
      "provenance": [],
      "authorship_tag": "ABX9TyPYnVfjCgrHWpDwesqZFNoR",
      "include_colab_link": true
    },
    "kernelspec": {
      "display_name": "Python 3",
      "name": "python3"
    },
    "language_info": {
      "name": "python"
    }
  },
  "nbformat": 4,
  "nbformat_minor": 0
}